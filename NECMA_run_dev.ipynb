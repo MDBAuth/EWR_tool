{
 "cells": [
  {
   "cell_type": "code",
   "execution_count": 1,
   "metadata": {},
   "outputs": [],
   "source": [
    "#USER INPUT REQUIRED>>>>>>>>>>>>>>>>>>>>>>>>>>>>>>>>>>>>>>>\n",
    "\n",
    "# Minimum 1 scenario and 1 related file required\n",
    "scenarios = {'Observed_Flows': ['/home/azureuser/cloudfiles/code/Users/Martin.Job/EWR_tool/NECMA_flows.csv']}\n",
    "\n",
    "model_format = 'Standard time-series'\n",
    "\n",
    "# END USER INPUT<<<<<<<<<<<<<<<<<<<<<<<<<<<<<<<<<<<<<<<<<<<\n"
   ]
  },
  {
   "cell_type": "code",
   "execution_count": 2,
   "metadata": {},
   "outputs": [],
   "source": [
    "from py_ewr.scenario_handling import ScenarioHandler\n",
    "import pandas as pd\n",
    "\n",
    "ewr_results_dict = {}\n",
    "yearly_results_dict = {}\n",
    "all_events_dict = {}\n",
    "all_interEvents_dict = {}\n",
    "all_successful_Events_dict = {}\n",
    "all_successful_interEvents_dict = {}\n",
    "\n",
    "for scenario_name, scenario_list in scenarios.items():\n",
    "    ewr_results = pd.DataFrame()\n",
    "    yearly_ewr_results = pd.DataFrame()\n",
    "    all_events = pd.DataFrame()\n",
    "    all_interEvents = pd.DataFrame()\n",
    "    all_successful_Events = pd.DataFrame()\n",
    "    all_successful_interEvents = pd.DataFrame()\n",
    "    for file in scenarios[scenario_name]:\n",
    "\n",
    "        # Running the EWR tool:\n",
    "        ewr_sh = ScenarioHandler(scenario_file = file, \n",
    "                                model_format = model_format,\n",
    "                                parameter_sheet=\"/home/azureuser/cloudfiles/code/Users/Martin.Job/EWR_tool/py_ewr/parameter_metadata/parameter_sheet_NECMA.csv\")\n",
    "\n",
    "        # Return each table and stitch the different files of the same scenario together:\n",
    "        # Table 1: Summarised EWR results for the entire timeseries\n",
    "        temp_ewr_results = ewr_sh.get_ewr_results()\n",
    "        ewr_results = pd.concat([ewr_results, temp_ewr_results], axis = 0)\n",
    "        # Table 2: Summarised EWR results, aggregated to water years:\n",
    "        temp_yearly_ewr_results = ewr_sh.get_yearly_ewr_results()\n",
    "        yearly_ewr_results = pd.concat([yearly_ewr_results, temp_yearly_ewr_results], axis = 0)\n",
    "        # Table 3: All events details regardless of duration \n",
    "        temp_all_events = ewr_sh.get_all_events()\n",
    "        all_events = pd.concat([all_events, temp_all_events], axis = 0)\n",
    "        # Table 4: Inverse of Table 3 showing the interevent periods\n",
    "        temp_all_interEvents = ewr_sh.get_all_interEvents()\n",
    "        all_interEvents = pd.concat([all_interEvents, temp_all_interEvents], axis = 0)\n",
    "        # Table 5: All events details that also meet the duration requirement:\n",
    "        temp_all_successfulEvents = ewr_sh.get_all_successful_events()\n",
    "        all_successful_Events = pd.concat([all_successful_Events, temp_all_successfulEvents], axis = 0)\n",
    "        # Table 6: Inverse of Table 5 showing the interevent periods:\n",
    "        temp_all_successful_interEvents = ewr_sh.get_all_successful_interEvents()\n",
    "        all_successful_interEvents = pd.concat([all_successful_interEvents, temp_all_successful_interEvents], axis = 0)\n",
    "        \n",
    "\n",
    "    # Optional code to output results to csv files:\n",
    "    ewr_results.to_csv(scenario_name + 'NECMA_summary.csv')\n",
    "    yearly_ewr_results.to_csv(scenario_name + 'NECMA_annual_summary.csv')\n",
    "    all_events.to_csv(scenario_name + 'NECMA_all_events.csv')\n",
    "    all_interEvents.to_csv(scenario_name + 'NECMA_all_interevents.csv')\n",
    "    all_successful_Events.to_csv(scenario_name + 'NECMA_all_successful_Events.csv')\n",
    "    all_successful_interEvents.to_csv(scenario_name + 'NECMA_all_successful_interEvents.csv')\n",
    "\n",
    "    # Save the final tables to the dictionaries:   \n",
    "    ewr_results_dict[scenario_name] = ewr_results\n",
    "    yearly_results_dict[scenario_name] = yearly_ewr_results\n",
    "    all_events_dict[scenario_name] = all_events_dict\n",
    "    all_interEvents_dict[scenario_name] = all_interEvents\n",
    "    all_successful_Events_dict[scenario_name] = all_successful_Events\n",
    "    all_successful_interEvents_dict[scenario_name] = all_successful_interEvents\n",
    "\n"
   ]
  },
  {
   "cell_type": "code",
   "execution_count": null,
   "metadata": {},
   "outputs": [],
   "source": [
    "# from datetime import datetime\n",
    "\n",
    "# #USER INPUT REQUIRED>>>>>>>>>>>>>>>>>>>>>>>>>>>>>>>>>>>>>>>\n",
    "\n",
    "# dates = {'start_date': datetime(2014, 7, 2), \n",
    "#         'end_date': datetime(2024, 7, 1)}\n",
    "\n",
    "# gauges = ['402203', '402222', '402205', '402207', '402206', '402204', '403220', '403227', '403223', '403230', '403241', '409017']"
   ]
  },
  {
   "cell_type": "code",
   "execution_count": null,
   "metadata": {},
   "outputs": [
    {
     "name": "stdout",
     "output_type": "stream",
     "text": [
      "HERREERERERER!?!?!?!?\n",
      "[]\n",
      "end\n"
     ]
    },
    {
     "ename": "ValueError",
     "evalue": "No objects to concatenate",
     "output_type": "error",
     "traceback": [
      "\u001b[31m---------------------------------------------------------------------------\u001b[39m",
      "\u001b[31mValueError\u001b[39m                                Traceback (most recent call last)",
      "\u001b[36mCell\u001b[39m\u001b[36m \u001b[39m\u001b[32mIn[2]\u001b[39m\u001b[32m, line 8\u001b[39m\n\u001b[32m      4\u001b[39m ewr_oh = ObservedHandler(gauges=gauges, dates=dates, parameter_sheet=\u001b[33m\"\u001b[39m\u001b[33m/home/azureuser/cloudfiles/code/Users/Martin.Job/EWR_tool/py_ewr/parameter_metadata/parameter_sheet_NECMA_dev.csv\u001b[39m\u001b[33m\"\u001b[39m)\n\u001b[32m      6\u001b[39m \u001b[38;5;66;03m# Generating tables:\u001b[39;00m\n\u001b[32m      7\u001b[39m \u001b[38;5;66;03m# Table 1: Summarised EWR results for the entire timeseries\u001b[39;00m\n\u001b[32m----> \u001b[39m\u001b[32m8\u001b[39m ewr_results = \u001b[43mewr_oh\u001b[49m\u001b[43m.\u001b[49m\u001b[43mget_ewr_results\u001b[49m\u001b[43m(\u001b[49m\u001b[43m)\u001b[49m\n\u001b[32m     10\u001b[39m \u001b[38;5;66;03m# Table 2: Summarised EWR results, aggregated to water years:\u001b[39;00m\n\u001b[32m     11\u001b[39m yearly_ewr_results = ewr_oh.get_yearly_ewr_results()\n",
      "\u001b[36mFile \u001b[39m\u001b[32m/mnt/batch/tasks/shared/LS_root/mounts/clusters/npd-data-azml-mj11-ds3/code/Users/Martin.Job/EWR_tool/py_ewr/observed_handling.py:382\u001b[39m, in \u001b[36mObservedHandler.get_ewr_results\u001b[39m\u001b[34m(self)\u001b[39m\n\u001b[32m    379\u001b[39m \u001b[38;5;28;01mif\u001b[39;00m \u001b[38;5;129;01mnot\u001b[39;00m \u001b[38;5;28mself\u001b[39m.pu_ewr_statistics:\n\u001b[32m    380\u001b[39m     \u001b[38;5;28mself\u001b[39m.process_gauges()\n\u001b[32m--> \u001b[39m\u001b[32m382\u001b[39m \u001b[38;5;28;01mreturn\u001b[39;00m \u001b[43msummarise_results\u001b[49m\u001b[43m.\u001b[49m\u001b[43msummarise\u001b[49m\u001b[43m(\u001b[49m\u001b[38;5;28;43mself\u001b[39;49m\u001b[43m.\u001b[49m\u001b[43mpu_ewr_statistics\u001b[49m\u001b[43m \u001b[49m\u001b[43m,\u001b[49m\u001b[43m \u001b[49m\u001b[38;5;28;43mself\u001b[39;49m\u001b[43m.\u001b[49m\u001b[43myearly_events\u001b[49m\u001b[43m,\u001b[49m\u001b[43m \u001b[49m\u001b[43mparameter_sheet_path\u001b[49m\u001b[43m=\u001b[49m\u001b[38;5;28;43mself\u001b[39;49m\u001b[43m.\u001b[49m\u001b[43mparameter_sheet\u001b[49m\u001b[43m)\u001b[49m\n",
      "\u001b[36mFile \u001b[39m\u001b[32m/mnt/batch/tasks/shared/LS_root/mounts/clusters/npd-data-azml-mj11-ds3/code/Users/Martin.Job/EWR_tool/py_ewr/summarise_results.py:388\u001b[39m, in \u001b[36msummarise\u001b[39m\u001b[34m(input_dict, events, parameter_sheet_path)\u001b[39m\n\u001b[32m    377\u001b[39m \u001b[38;5;250m\u001b[39m\u001b[33;03m\"\"\"orchestrate the processing of the pu_dfs items and the gauge events and join\u001b[39;00m\n\u001b[32m    378\u001b[39m \u001b[33;03min one summary DataFrame and join with EWR parameters for comparison\u001b[39;00m\n\u001b[32m    379\u001b[39m \n\u001b[32m   (...)\u001b[39m\u001b[32m    385\u001b[39m \u001b[33;03m    pd.DataFrame: Summary statistics for all ewr calculation for the whole period of the run\u001b[39;00m\n\u001b[32m    386\u001b[39m \u001b[33;03m\"\"\"\u001b[39;00m\n\u001b[32m    387\u001b[39m to_process = pu_dfs_to_process(input_dict)\n\u001b[32m--> \u001b[39m\u001b[32m388\u001b[39m yearly_ewr_results = \u001b[43mprocess_df_results\u001b[49m\u001b[43m(\u001b[49m\u001b[43mto_process\u001b[49m\u001b[43m)\u001b[49m\n\u001b[32m    390\u001b[39m \u001b[38;5;66;03m# aggregate by \"gauge\",\"pu\",\"ewrCode\"\u001b[39;00m\n\u001b[32m    391\u001b[39m final_summary_output = (yearly_ewr_results\n\u001b[32m    392\u001b[39m .groupby([\u001b[33m\"\u001b[39m\u001b[33mscenario\u001b[39m\u001b[33m\"\u001b[39m,\u001b[33m\"\u001b[39m\u001b[33mgauge\u001b[39m\u001b[33m\"\u001b[39m,\u001b[33m\"\u001b[39m\u001b[33mpu\u001b[39m\u001b[33m\"\u001b[39m,\u001b[33m\"\u001b[39m\u001b[33mewrCode\u001b[39m\u001b[33m\"\u001b[39m])\n\u001b[32m    393\u001b[39m .agg( EventYears = (\u001b[33m\"\u001b[39m\u001b[33meventYears\u001b[39m\u001b[33m\"\u001b[39m, \u001b[33m'\u001b[39m\u001b[33msum\u001b[39m\u001b[33m'\u001b[39m),\n\u001b[32m   (...)\u001b[39m\u001b[32m    405\u001b[39m       )\n\u001b[32m    406\u001b[39m )\n",
      "\u001b[36mFile \u001b[39m\u001b[32m/mnt/batch/tasks/shared/LS_root/mounts/clusters/npd-data-azml-mj11-ds3/code/Users/Martin.Job/EWR_tool/py_ewr/summarise_results.py:156\u001b[39m, in \u001b[36mprocess_df_results\u001b[39m\u001b[34m(results_to_process)\u001b[39m\n\u001b[32m    154\u001b[39m     \u001b[38;5;28;01mexcept\u001b[39;00m \u001b[38;5;167;01mException\u001b[39;00m \u001b[38;5;28;01mas\u001b[39;00m e:\n\u001b[32m    155\u001b[39m         log.error(\u001b[33mf\u001b[39m\u001b[33m\"\u001b[39m\u001b[33mCould not process due to \u001b[39m\u001b[38;5;132;01m{\u001b[39;00me\u001b[38;5;132;01m}\u001b[39;00m\u001b[33m\"\u001b[39m)\n\u001b[32m--> \u001b[39m\u001b[32m156\u001b[39m \u001b[38;5;28;01mreturn\u001b[39;00m \u001b[43mpd\u001b[49m\u001b[43m.\u001b[49m\u001b[43mconcat\u001b[49m\u001b[43m(\u001b[49m\u001b[43mreturned_dfs\u001b[49m\u001b[43m,\u001b[49m\u001b[43m \u001b[49m\u001b[43mignore_index\u001b[49m\u001b[43m=\u001b[49m\u001b[38;5;28;43;01mTrue\u001b[39;49;00m\u001b[43m)\u001b[49m\n",
      "\u001b[36mFile \u001b[39m\u001b[32m/anaconda/envs/EWR_dev/lib/python3.13/site-packages/pandas/core/reshape/concat.py:382\u001b[39m, in \u001b[36mconcat\u001b[39m\u001b[34m(objs, axis, join, ignore_index, keys, levels, names, verify_integrity, sort, copy)\u001b[39m\n\u001b[32m    379\u001b[39m \u001b[38;5;28;01melif\u001b[39;00m copy \u001b[38;5;129;01mand\u001b[39;00m using_copy_on_write():\n\u001b[32m    380\u001b[39m     copy = \u001b[38;5;28;01mFalse\u001b[39;00m\n\u001b[32m--> \u001b[39m\u001b[32m382\u001b[39m op = \u001b[43m_Concatenator\u001b[49m\u001b[43m(\u001b[49m\n\u001b[32m    383\u001b[39m \u001b[43m    \u001b[49m\u001b[43mobjs\u001b[49m\u001b[43m,\u001b[49m\n\u001b[32m    384\u001b[39m \u001b[43m    \u001b[49m\u001b[43maxis\u001b[49m\u001b[43m=\u001b[49m\u001b[43maxis\u001b[49m\u001b[43m,\u001b[49m\n\u001b[32m    385\u001b[39m \u001b[43m    \u001b[49m\u001b[43mignore_index\u001b[49m\u001b[43m=\u001b[49m\u001b[43mignore_index\u001b[49m\u001b[43m,\u001b[49m\n\u001b[32m    386\u001b[39m \u001b[43m    \u001b[49m\u001b[43mjoin\u001b[49m\u001b[43m=\u001b[49m\u001b[43mjoin\u001b[49m\u001b[43m,\u001b[49m\n\u001b[32m    387\u001b[39m \u001b[43m    \u001b[49m\u001b[43mkeys\u001b[49m\u001b[43m=\u001b[49m\u001b[43mkeys\u001b[49m\u001b[43m,\u001b[49m\n\u001b[32m    388\u001b[39m \u001b[43m    \u001b[49m\u001b[43mlevels\u001b[49m\u001b[43m=\u001b[49m\u001b[43mlevels\u001b[49m\u001b[43m,\u001b[49m\n\u001b[32m    389\u001b[39m \u001b[43m    \u001b[49m\u001b[43mnames\u001b[49m\u001b[43m=\u001b[49m\u001b[43mnames\u001b[49m\u001b[43m,\u001b[49m\n\u001b[32m    390\u001b[39m \u001b[43m    \u001b[49m\u001b[43mverify_integrity\u001b[49m\u001b[43m=\u001b[49m\u001b[43mverify_integrity\u001b[49m\u001b[43m,\u001b[49m\n\u001b[32m    391\u001b[39m \u001b[43m    \u001b[49m\u001b[43mcopy\u001b[49m\u001b[43m=\u001b[49m\u001b[43mcopy\u001b[49m\u001b[43m,\u001b[49m\n\u001b[32m    392\u001b[39m \u001b[43m    \u001b[49m\u001b[43msort\u001b[49m\u001b[43m=\u001b[49m\u001b[43msort\u001b[49m\u001b[43m,\u001b[49m\n\u001b[32m    393\u001b[39m \u001b[43m\u001b[49m\u001b[43m)\u001b[49m\n\u001b[32m    395\u001b[39m \u001b[38;5;28;01mreturn\u001b[39;00m op.get_result()\n",
      "\u001b[36mFile \u001b[39m\u001b[32m/anaconda/envs/EWR_dev/lib/python3.13/site-packages/pandas/core/reshape/concat.py:445\u001b[39m, in \u001b[36m_Concatenator.__init__\u001b[39m\u001b[34m(self, objs, axis, join, keys, levels, names, ignore_index, verify_integrity, copy, sort)\u001b[39m\n\u001b[32m    442\u001b[39m \u001b[38;5;28mself\u001b[39m.verify_integrity = verify_integrity\n\u001b[32m    443\u001b[39m \u001b[38;5;28mself\u001b[39m.copy = copy\n\u001b[32m--> \u001b[39m\u001b[32m445\u001b[39m objs, keys = \u001b[38;5;28;43mself\u001b[39;49m\u001b[43m.\u001b[49m\u001b[43m_clean_keys_and_objs\u001b[49m\u001b[43m(\u001b[49m\u001b[43mobjs\u001b[49m\u001b[43m,\u001b[49m\u001b[43m \u001b[49m\u001b[43mkeys\u001b[49m\u001b[43m)\u001b[49m\n\u001b[32m    447\u001b[39m \u001b[38;5;66;03m# figure out what our result ndim is going to be\u001b[39;00m\n\u001b[32m    448\u001b[39m ndims = \u001b[38;5;28mself\u001b[39m._get_ndims(objs)\n",
      "\u001b[36mFile \u001b[39m\u001b[32m/anaconda/envs/EWR_dev/lib/python3.13/site-packages/pandas/core/reshape/concat.py:507\u001b[39m, in \u001b[36m_Concatenator._clean_keys_and_objs\u001b[39m\u001b[34m(self, objs, keys)\u001b[39m\n\u001b[32m    504\u001b[39m     objs_list = \u001b[38;5;28mlist\u001b[39m(objs)\n\u001b[32m    506\u001b[39m \u001b[38;5;28;01mif\u001b[39;00m \u001b[38;5;28mlen\u001b[39m(objs_list) == \u001b[32m0\u001b[39m:\n\u001b[32m--> \u001b[39m\u001b[32m507\u001b[39m     \u001b[38;5;28;01mraise\u001b[39;00m \u001b[38;5;167;01mValueError\u001b[39;00m(\u001b[33m\"\u001b[39m\u001b[33mNo objects to concatenate\u001b[39m\u001b[33m\"\u001b[39m)\n\u001b[32m    509\u001b[39m \u001b[38;5;28;01mif\u001b[39;00m keys \u001b[38;5;129;01mis\u001b[39;00m \u001b[38;5;28;01mNone\u001b[39;00m:\n\u001b[32m    510\u001b[39m     objs_list = \u001b[38;5;28mlist\u001b[39m(com.not_none(*objs_list))\n",
      "\u001b[31mValueError\u001b[39m: No objects to concatenate"
     ]
    }
   ],
   "source": [
    "# from py_ewr.observed_handling import ObservedHandler\n",
    "\n",
    "# # Running the EWR tool:\n",
    "# ewr_oh = ObservedHandler(gauges=gauges, dates=dates, parameter_sheet=\"/home/azureuser/cloudfiles/code/Users/Martin.Job/EWR_tool/py_ewr/parameter_metadata/parameter_sheet_NECMA_dev.csv\")\n",
    "\n",
    "# # Generating tables:\n",
    "# # Table 1: Summarised EWR results for the entire timeseries\n",
    "# ewr_results = ewr_oh.get_ewr_results()\n",
    "\n",
    "# # Table 2: Summarised EWR results, aggregated to water years:\n",
    "# yearly_ewr_results = ewr_oh.get_yearly_ewr_results()\n",
    "\n",
    "# # Table 3: All events details regardless of duration \n",
    "# all_events = ewr_oh.get_all_events()\n",
    "\n",
    "# # Table 4: Inverse of Table 3 showing the interevent periods\n",
    "# all_interEvents = ewr_oh.get_all_interEvents()\n",
    "\n",
    "# # Table 5: All events details that also meet the duration requirement:\n",
    "# all_successfulEvents = ewr_oh.get_all_successful_events()\n",
    "\n",
    "# # Table 6: Inverse of Table 5 showing the interevent periods:\n",
    "# all_successful_interEvents = ewr_oh.get_all_successful_interEvents()"
   ]
  },
  {
   "cell_type": "code",
   "execution_count": null,
   "metadata": {},
   "outputs": [],
   "source": [
    "# ewr_results.to_csv('ewr_summary_WITH_404210.csv',index=False)\n",
    "# yearly_ewr_results.to_csv('annual_ewr_summary_WITH_404210.csv', index = False)\n",
    "# all_events.to_csv('all_events_WITH_404210_WITH_404210.csv', index = False)\n",
    "# all_interEvents.to_csv('all_interEvents_WITH_404210.csv', index = False)\n",
    "# all_successfulEvents.to_csv('all_successfulEvents_WITH_404210.csv', index = False)\n",
    "# all_successful_interEvents.to_csv('all_successful_interEvents_WITH_404210.csv', index = False)"
   ]
  },
  {
   "cell_type": "code",
   "execution_count": null,
   "metadata": {},
   "outputs": [],
   "source": [
    "ewr_results.to_csv('NECMA_ewr_summary.csv',index=False)\n",
    "yearly_ewr_results.to_csv('NECMA_annual_ewr_summary.csv', index = False)\n",
    "all_events.to_csv('NECMA_all_events.csv', index = False)\n",
    "all_interEvents.to_csv('NECMA_all_interEvents.csv', index = False)\n",
    "all_successfulEvents.to_csv('NECMA_all_successfulEvents.csv', index = False)\n",
    "all_successful_interEvents.to_csv('NECMA_all_successful_interEvents.csv', index = False)"
   ]
  },
  {
   "cell_type": "code",
   "execution_count": 3,
   "metadata": {},
   "outputs": [
    {
     "name": "stdout",
     "output_type": "stream",
     "text": [
      "    Scenario   Gauge    PlanningUnit State SWSDLName        EwrCode Multigauge  EventYears  Frequency TargetFrequency  AchievementCount  AchievementPerYear  EventCount  EventCountAll  EventsPerYear  EventsPerYearAll  AverageEventLength  ThresholdDays MaxInterEventYears  NoDataDays  TotalDays\n",
      "0   observed  405232  Goulburn river   VIC  Goulburn      BF_SumAut                    0.0          0             100               0.0            0.000000         0.0           70.0       0.000000          5.000000           10.042857          703.0                  0         0.0     5114.0\n",
      "1   observed  405232  Goulburn river   VIC  Goulburn      BF_WinSpr                   12.0         80             100              12.0            0.800000        12.0           16.0       0.800000          1.066667          159.375000         2550.0                  0         0.0     5114.0\n",
      "2   observed  405232  Goulburn river   VIC  Goulburn       FAutumn1                    4.0         29             100               6.0            0.428571         6.0            6.0       0.428571          0.428571            8.833333           53.0                  1         0.0     5114.0\n",
      "3   observed  405232  Goulburn river   VIC  Goulburn       FAutumn2                    3.0         21             100               5.0            0.357143         5.0            6.0       0.357143          0.428571            8.833333           53.0                  1         0.0     5114.0\n",
      "4   observed  405232  Goulburn river   VIC  Goulburn       FAutumn3                    1.0          7             100               2.0            0.142857         2.0            6.0       0.142857          0.428571            8.833333           53.0                  1         0.0     5114.0\n",
      "5   observed  405232  Goulburn river   VIC  Goulburn  FEarlySpring1                   14.0        100             100              20.0            1.428571        20.0           28.0       1.428571          2.000000           15.892857          445.0                  1         0.0     5114.0\n",
      "6   observed  405232  Goulburn river   VIC  Goulburn  FEarlySpring2                    6.0         43             100               9.0            0.642857         9.0           20.0       0.642857          1.428571           13.950000          279.0                  1         0.0     5114.0\n",
      "7   observed  405232  Goulburn river   VIC  Goulburn   FLateSpring1                   11.0         79             100              18.0            1.285714        18.0           20.0       1.285714          1.428571           13.550000          271.0                  1         0.0     5114.0\n",
      "8   observed  405232  Goulburn river   VIC  Goulburn   FLateSpring2                   14.0        100             100              28.0            2.000000        28.0           28.0       2.000000          2.000000           14.071429          394.0                  1         0.0     5114.0\n",
      "9   observed  405232  Goulburn river   VIC  Goulburn         OB1-WL                    6.0         40             100              14.0            0.933333        14.0           18.0       0.933333          1.200000           20.777778          374.0                  0         0.0     5114.0\n",
      "10  observed  405232  Goulburn river   VIC  Goulburn         OB1-WS                    8.0         53             100              18.0            1.200000        18.0           18.0       1.200000          1.200000           20.777778          374.0                  0         0.0     5114.0\n",
      "11  observed  405232  Goulburn river   VIC  Goulburn         OB2-WL                    5.0         33              70               7.0            0.466667         7.0            8.0       0.466667          0.533333           16.250000          130.0                  0         0.0     5114.0\n",
      "12  observed  405232  Goulburn river   VIC  Goulburn         OB2-WS                    5.0         33              70               8.0            0.533333         8.0            8.0       0.533333          0.533333           16.250000          130.0                  0         0.0     5114.0\n",
      "13  observed  405232  Goulburn river   VIC  Goulburn         OB3-WL                    3.0         20               0               3.0            0.200000         3.0            3.0       0.200000          0.200000           20.000000           60.0                  0         0.0     5114.0\n",
      "14  observed  405232  Goulburn river   VIC  Goulburn         OB3-WS                    3.0         20               0               3.0            0.200000         3.0            3.0       0.200000          0.200000           20.000000           60.0                  0         0.0     5114.0\n"
     ]
    }
   ],
   "source": [
    "print(ewr_results.to_string())"
   ]
  },
  {
   "cell_type": "code",
   "execution_count": null,
   "metadata": {},
   "outputs": [],
   "source": []
  }
 ],
 "metadata": {
  "kernelspec": {
   "display_name": "EWR_dev",
   "language": "python",
   "name": "python3"
  },
  "language_info": {
   "codemirror_mode": {
    "name": "ipython",
    "version": 3
   },
   "file_extension": ".py",
   "mimetype": "text/x-python",
   "name": "python",
   "nbconvert_exporter": "python",
   "pygments_lexer": "ipython3",
   "version": "3.13.2"
  }
 },
 "nbformat": 4,
 "nbformat_minor": 2
}

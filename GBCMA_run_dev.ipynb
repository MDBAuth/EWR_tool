{
 "cells": [
  {
   "cell_type": "code",
   "execution_count": 2,
   "metadata": {},
   "outputs": [],
   "source": [
    "from datetime import datetime\n",
    "\n",
    "#USER INPUT REQUIRED>>>>>>>>>>>>>>>>>>>>>>>>>>>>>>>>>>>>>>>\n",
    "\n",
    "dates = {'start_date': datetime(2014, 7, 2), \n",
    "        'end_date': datetime(2024, 7, 1)}\n",
    "\n",
    "gauges = ['405232', '409025', '405738', '404239', '404210', '404243', '404216', '405203', '405201']\n",
    "\n",
    "# dates = {'start_date': datetime(1976, 7, 1), \n",
    "#         'end_date': datetime(1996, 6, 30)}\n",
    "\n",
    "# gauges = ['404210']\n",
    "\n",
    "# END USER INPUT<<<<<<<<<<<<<<<<<<<<<<<<<<<<<<<<<<<<<<<<<<<"
   ]
  },
  {
   "cell_type": "code",
   "execution_count": 3,
   "metadata": {},
   "outputs": [
    {
     "name": "stderr",
     "output_type": "stream",
     "text": [
      "INFO:mdba_gauge_getter.gauge_get:NSW - Request 1 of 1\n",
      "INFO:mdba_gauge_getter.gauge_get:VIC - Request 1 of 2\n",
      "INFO:mdba_gauge_getter.gauge_get:VIC - Request 2 of 2\n"
     ]
    }
   ],
   "source": [
    "from py_ewr.observed_handling import ObservedHandler\n",
    "\n",
    "# Running the EWR tool:\n",
    "ewr_oh = ObservedHandler(gauges=gauges, dates=dates, parameter_sheet=\"/home/azureuser/cloudfiles/code/Users/Martin.Job/EWR_tool/py_ewr/parameter_metadata/parameter_sheet_GBCMA_dev.csv\")\n",
    "\n",
    "# Generating tables:\n",
    "# Table 1: Summarised EWR results for the entire timeseries\n",
    "ewr_results = ewr_oh.get_ewr_results()\n",
    "\n",
    "# Table 2: Summarised EWR results, aggregated to water years:\n",
    "yearly_ewr_results = ewr_oh.get_yearly_ewr_results()\n",
    "\n",
    "# Table 3: All events details regardless of duration \n",
    "all_events = ewr_oh.get_all_events()\n",
    "\n",
    "# Table 4: Inverse of Table 3 showing the interevent periods\n",
    "all_interEvents = ewr_oh.get_all_interEvents()\n",
    "\n",
    "# Table 5: All events details that also meet the duration requirement:\n",
    "all_successfulEvents = ewr_oh.get_all_successful_events()\n",
    "\n",
    "# Table 6: Inverse of Table 5 showing the interevent periods:\n",
    "all_successful_interEvents = ewr_oh.get_all_successful_interEvents()"
   ]
  },
  {
   "cell_type": "code",
   "execution_count": null,
   "metadata": {},
   "outputs": [],
   "source": [
    "# ewr_results.to_csv('ewr_summary_WITH_404210.csv',index=False)\n",
    "# yearly_ewr_results.to_csv('annual_ewr_summary_WITH_404210.csv', index = False)\n",
    "# all_events.to_csv('all_events_WITH_404210_WITH_404210.csv', index = False)\n",
    "# all_interEvents.to_csv('all_interEvents_WITH_404210.csv', index = False)\n",
    "# all_successfulEvents.to_csv('all_successfulEvents_WITH_404210.csv', index = False)\n",
    "# all_successful_interEvents.to_csv('all_successful_interEvents_WITH_404210.csv', index = False)"
   ]
  },
  {
   "cell_type": "code",
   "execution_count": 4,
   "metadata": {},
   "outputs": [],
   "source": [
    "ewr_results.to_csv('GBCMA_ewr_summary.csv',index=False)\n",
    "yearly_ewr_results.to_csv('GBCMA_annual_ewr_summary.csv', index = False)\n",
    "all_events.to_csv('GBCMA_all_events.csv', index = False)\n",
    "all_interEvents.to_csv('GBCMA_all_interEvents.csv', index = False)\n",
    "all_successfulEvents.to_csv('GBCMA_all_successfulEvents.csv', index = False)\n",
    "all_successful_interEvents.to_csv('GBCMA_all_successful_interEvents.csv', index = False)"
   ]
  },
  {
   "cell_type": "code",
   "execution_count": 3,
   "metadata": {},
   "outputs": [
    {
     "name": "stdout",
     "output_type": "stream",
     "text": [
      "    Scenario   Gauge    PlanningUnit State SWSDLName        EwrCode Multigauge  EventYears  Frequency TargetFrequency  AchievementCount  AchievementPerYear  EventCount  EventCountAll  EventsPerYear  EventsPerYearAll  AverageEventLength  ThresholdDays MaxInterEventYears  NoDataDays  TotalDays\n",
      "0   observed  405232  Goulburn river   VIC  Goulburn      BF_SumAut                    0.0          0             100               0.0            0.000000         0.0           70.0       0.000000          5.000000           10.042857          703.0                  0         0.0     5114.0\n",
      "1   observed  405232  Goulburn river   VIC  Goulburn      BF_WinSpr                   12.0         80             100              12.0            0.800000        12.0           16.0       0.800000          1.066667          159.375000         2550.0                  0         0.0     5114.0\n",
      "2   observed  405232  Goulburn river   VIC  Goulburn       FAutumn1                    4.0         29             100               6.0            0.428571         6.0            6.0       0.428571          0.428571            8.833333           53.0                  1         0.0     5114.0\n",
      "3   observed  405232  Goulburn river   VIC  Goulburn       FAutumn2                    3.0         21             100               5.0            0.357143         5.0            6.0       0.357143          0.428571            8.833333           53.0                  1         0.0     5114.0\n",
      "4   observed  405232  Goulburn river   VIC  Goulburn       FAutumn3                    1.0          7             100               2.0            0.142857         2.0            6.0       0.142857          0.428571            8.833333           53.0                  1         0.0     5114.0\n",
      "5   observed  405232  Goulburn river   VIC  Goulburn  FEarlySpring1                   14.0        100             100              20.0            1.428571        20.0           28.0       1.428571          2.000000           15.892857          445.0                  1         0.0     5114.0\n",
      "6   observed  405232  Goulburn river   VIC  Goulburn  FEarlySpring2                    6.0         43             100               9.0            0.642857         9.0           20.0       0.642857          1.428571           13.950000          279.0                  1         0.0     5114.0\n",
      "7   observed  405232  Goulburn river   VIC  Goulburn   FLateSpring1                   11.0         79             100              18.0            1.285714        18.0           20.0       1.285714          1.428571           13.550000          271.0                  1         0.0     5114.0\n",
      "8   observed  405232  Goulburn river   VIC  Goulburn   FLateSpring2                   14.0        100             100              28.0            2.000000        28.0           28.0       2.000000          2.000000           14.071429          394.0                  1         0.0     5114.0\n",
      "9   observed  405232  Goulburn river   VIC  Goulburn         OB1-WL                    6.0         40             100              14.0            0.933333        14.0           18.0       0.933333          1.200000           20.777778          374.0                  0         0.0     5114.0\n",
      "10  observed  405232  Goulburn river   VIC  Goulburn         OB1-WS                    8.0         53             100              18.0            1.200000        18.0           18.0       1.200000          1.200000           20.777778          374.0                  0         0.0     5114.0\n",
      "11  observed  405232  Goulburn river   VIC  Goulburn         OB2-WL                    5.0         33              70               7.0            0.466667         7.0            8.0       0.466667          0.533333           16.250000          130.0                  0         0.0     5114.0\n",
      "12  observed  405232  Goulburn river   VIC  Goulburn         OB2-WS                    5.0         33              70               8.0            0.533333         8.0            8.0       0.533333          0.533333           16.250000          130.0                  0         0.0     5114.0\n",
      "13  observed  405232  Goulburn river   VIC  Goulburn         OB3-WL                    3.0         20               0               3.0            0.200000         3.0            3.0       0.200000          0.200000           20.000000           60.0                  0         0.0     5114.0\n",
      "14  observed  405232  Goulburn river   VIC  Goulburn         OB3-WS                    3.0         20               0               3.0            0.200000         3.0            3.0       0.200000          0.200000           20.000000           60.0                  0         0.0     5114.0\n"
     ]
    }
   ],
   "source": [
    "print(ewr_results.to_string())"
   ]
  },
  {
   "cell_type": "code",
   "execution_count": null,
   "metadata": {},
   "outputs": [],
   "source": []
  }
 ],
 "metadata": {
  "kernelspec": {
   "display_name": "EWR_dev",
   "language": "python",
   "name": "python3"
  },
  "language_info": {
   "codemirror_mode": {
    "name": "ipython",
    "version": 3
   },
   "file_extension": ".py",
   "mimetype": "text/x-python",
   "name": "python",
   "nbconvert_exporter": "python",
   "pygments_lexer": "ipython3",
   "version": "3.13.2"
  }
 },
 "nbformat": 4,
 "nbformat_minor": 2
}

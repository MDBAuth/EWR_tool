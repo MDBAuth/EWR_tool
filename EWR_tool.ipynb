{
 "cells": [
  {
   "cell_type": "markdown",
   "metadata": {
    "extensions": {
     "jupyter_dashboards": {
      "version": 1,
      "views": {
       "grid_default": {},
       "report_default": {
        "hidden": false
       }
      }
     }
    },
    "slideshow": {
     "slide_type": "slide"
    }
   },
   "source": [
    "______________\n",
    "\n",
    "## EWR TOOL beta 0.0.6\n",
    "______________\n",
    "**For issues relating to the script, a tutorial, or to provide feedback please contact Martin Job at martin.job@mdba.gov.au or Joel Bailey at joel.bailey@mdba.gov.au**\n",
    "\n",
    "Please consult the user manual prior to running the script.\n",
    "______________________________\n",
    "\n",
    "The EWR tool is used for evaluating Environmental Watering Requirement (EWR) success for given flow timeseries. This tool has two distinct uses:\n",
    "1. Operational: Tracking EWR success at gauges of interest in real time\n",
    "2. Planning: Comparing EWR success between scenarios (i.e. model runs)\n",
    "\n",
    "The outputs of the program:\n",
    "- Standard EWR output (results summary page)\n",
    "- Yearly results summary for each location\n",
    "\n",
    "Catchments this tool is currently compatable with:\n",
    "- All catchments in NSW\n",
    "________________________________    "
   ]
  },
  {
   "cell_type": "code",
   "execution_count": null,
   "metadata": {},
   "outputs": [],
   "source": [
    "%load_ext autoreload\n",
    "%autoreload 2"
   ]
  },
  {
   "cell_type": "code",
   "execution_count": null,
   "metadata": {},
   "outputs": [],
   "source": [
    "# You only need to run this cell once, then you can skip it/comment it out\n",
    "# After running it you may need to reset your kernel\n",
    "!git clone https://github.com/MDBAuth/MDBA_Gauge_Getter.git\n",
    "!cd MDBA_Gauge_Getter; python setup.py install"
   ]
  },
  {
   "cell_type": "code",
   "execution_count": null,
   "metadata": {},
   "outputs": [],
   "source": [
    "import dashboard\n",
    "import data_inputs\n",
    "dashboard.ewr_dashboard"
   ]
  },
  {
   "cell_type": "markdown",
   "metadata": {},
   "source": [
    "#### **Load in the real time/real world results:**\n",
    "\n",
    "Once you have clicked run program in the above dashboard under the 'Real-time EWRs' tab, you will be able to run the below cell to bring the yearly results and results summary into the below variables into the notebook. From here you will be able to perform further testing and analysis on the results."
   ]
  },
  {
   "cell_type": "code",
   "execution_count": null,
   "metadata": {},
   "outputs": [],
   "source": [
    "try:\n",
    "    realTime_summary = dashboard.results_summary_o\n",
    "    realTime = dashboard.raw_data_o\n",
    "    print('Observed flow EWRs loaded into the notebook')\n",
    "except AttributeError:\n",
    "    print(\"Run the 'Observed' program and try again\")  "
   ]
  },
  {
   "cell_type": "markdown",
   "metadata": {},
   "source": [
    "#### **Load in the scenario testing results:**\n",
    "\n",
    "Once you have clicked run program in the above dashboard under the 'Scenario testing' tab, you will be able to run the below cell to bring the yearly results and results summary into the below variables into the notebook. From here you will be able to perform further testing and analysis on the results."
   ]
  },
  {
   "cell_type": "code",
   "execution_count": null,
   "metadata": {},
   "outputs": [],
   "source": [
    "try:  \n",
    "    scenarioTest_summary = dashboard.data_summary_s\n",
    "    scenarioTest = dashboard.raw_data_s\n",
    "    print('Scenario testing results loaded into the notebook')\n",
    "except AttributeError:\n",
    "    print(\"Run the 'Scenario testing' program and try again\")"
   ]
  },
  {
   "cell_type": "markdown",
   "metadata": {},
   "source": [
    "#### **Checking the EWRs in the database**\n",
    "\n",
    "The program accesses the ewrs from a master table, and filters out the ewrs not yet readable by a machine. Running the below cells will show you the ewrs available for evaluation (the goodEwrs dataframe), and the seven groups of ewrs not yet readable by this tool."
   ]
  },
  {
   "cell_type": "code",
   "execution_count": null,
   "metadata": {},
   "outputs": [],
   "source": [
    "import data_inputs\n",
    "EWR_table, bad_EWRs = data_inputs.get_EWR_table()"
   ]
  },
  {
   "cell_type": "code",
   "execution_count": null,
   "metadata": {},
   "outputs": [],
   "source": [
    "display(EWR_table.style)"
   ]
  },
  {
   "cell_type": "code",
   "execution_count": null,
   "metadata": {},
   "outputs": [],
   "source": [
    "display(bad_EWRs.style)"
   ]
  }
 ],
 "metadata": {
  "extensions": {
   "jupyter_dashboards": {
    "activeView": "report_default",
    "version": 1,
    "views": {
     "grid_default": {
      "cellMargin": 10,
      "defaultCellHeight": 20,
      "maxColumns": 12,
      "name": "grid",
      "type": "grid"
     },
     "report_default": {
      "name": "report",
      "type": "report"
     }
    }
   }
  },
  "kernel_info": {
   "name": "python3-azureml"
  },
  "kernelspec": {
   "display_name": "EWR",
   "language": "python",
   "name": "ewr"
  },
  "language_info": {
   "codemirror_mode": {
    "name": "ipython",
    "version": 3
   },
   "file_extension": ".py",
   "mimetype": "text/x-python",
   "name": "python",
   "nbconvert_exporter": "python",
   "pygments_lexer": "ipython3",
   "version": "3.6.13"
  },
  "nteract": {
   "version": "nteract-front-end@1.0.0"
  }
 },
 "nbformat": 4,
 "nbformat_minor": 4
}
